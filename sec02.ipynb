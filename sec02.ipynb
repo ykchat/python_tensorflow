{
 "cells": [
  {
   "attachments": {},
   "cell_type": "markdown",
   "metadata": {},
   "source": [
    "### データ理解"
   ]
  },
  {
   "cell_type": "code",
   "execution_count": 281,
   "metadata": {},
   "outputs": [
    {
     "data": {
      "text/plain": [
       "{0: '0', 1: '1'}"
      ]
     },
     "execution_count": 281,
     "metadata": {},
     "output_type": "execute_result"
    }
   ],
   "source": [
    "classes = {\n",
    "    0 : '0',\n",
    "    1 : '1',\n",
    "}\n",
    "classes"
   ]
  },
  {
   "cell_type": "code",
   "execution_count": 282,
   "metadata": {},
   "outputs": [],
   "source": [
    "import tensorflow as tf\n",
    "\n",
    "x_train = tf.constant(\n",
    "    [\n",
    "\n",
    "        [\n",
    "            [1, 1, 1, 1, 1],\n",
    "            [1, 0, 0, 0, 1],\n",
    "            [1, 0, 0, 0, 1],\n",
    "            [1, 0, 0, 0, 1],\n",
    "            [1, 1, 1, 1, 1],\n",
    "        ],\n",
    "        [\n",
    "            [0, 0, 1, 0, 0],\n",
    "            [0, 0, 1, 0, 0],\n",
    "            [0, 0, 1, 0, 0],\n",
    "            [0, 0, 1, 0, 0],\n",
    "            [0, 0, 1, 0, 0],\n",
    "        ],\n",
    "    ]\n",
    ")"
   ]
  },
  {
   "cell_type": "code",
   "execution_count": 283,
   "metadata": {},
   "outputs": [
    {
     "data": {
      "text/plain": [
       "TensorShape([2, 5, 5])"
      ]
     },
     "execution_count": 283,
     "metadata": {},
     "output_type": "execute_result"
    }
   ],
   "source": [
    "x_train.shape"
   ]
  },
  {
   "cell_type": "code",
   "execution_count": 284,
   "metadata": {},
   "outputs": [
    {
     "data": {
      "image/png": "[encoded data removed]",
      "text/plain": [
       "<Figure size 640x480 with 2 Axes>"
      ]
     },
     "metadata": {},
     "output_type": "display_data"
    }
   ],
   "source": [
    "import matplotlib.pyplot as plt\n",
    "\n",
    "words = x_train.shape[0]\n",
    "\n",
    "for i in range(words):\n",
    "    plt.subplot(1, words, i+1)\n",
    "    plt.imshow(x_train[i])\n",
    "plt.show()"
   ]
  },
  {
   "cell_type": "code",
   "execution_count": 285,
   "metadata": {},
   "outputs": [],
   "source": [
    "y_train = tf.constant([0., 1.])"
   ]
  },
  {
   "attachments": {},
   "cell_type": "markdown",
   "metadata": {},
   "source": [
    "### モデル構築"
   ]
  },
  {
   "cell_type": "code",
   "execution_count": 286,
   "metadata": {},
   "outputs": [],
   "source": [
    "class Model(tf.keras.Model):\n",
    "    def __init__(self):\n",
    "        super().__init__()\n",
    "        self.flatten = tf.keras.layers.Flatten()\n",
    "        self.fc1 = tf.keras.layers.Dense(32)\n",
    "        self.fc2 = tf.keras.layers.Dense(32)\n",
    "        self.fc3 = tf.keras.layers.Dense(32)\n",
    "        self.fc4 = tf.keras.layers.Dense(2)\n",
    "\n",
    "    def call(self, x):\n",
    "        x = self.flatten(x)\n",
    "        x = tf.nn.relu(self.fc1(x))\n",
    "        x = tf.nn.relu(self.fc2(x))\n",
    "        x = tf.nn.relu(self.fc3(x))\n",
    "        x = tf.nn.softmax(self.fc4(x))\n",
    "        print(x)\n",
    "        return x"
   ]
  },
  {
   "cell_type": "code",
   "execution_count": 287,
   "metadata": {},
   "outputs": [
    {
     "name": "stdout",
     "output_type": "stream",
     "text": [
      "tf.Tensor(\n",
      "[[0.56727195 0.43272805]\n",
      " [0.6504157  0.34958425]], shape=(2, 2), dtype=float32)\n"
     ]
    },
    {
     "data": {
      "text/plain": [
       "<tf.Tensor: shape=(2, 2), dtype=float32, numpy=\n",
       "array([[0.56727195, 0.43272805],\n",
       "       [0.6504157 , 0.34958425]], dtype=float32)>"
      ]
     },
     "execution_count": 287,
     "metadata": {},
     "output_type": "execute_result"
    }
   ],
   "source": [
    "model = Model()\n",
    "model(x_train)"
   ]
  },
  {
   "attachments": {},
   "cell_type": "markdown",
   "metadata": {},
   "source": [
    "### ハイパーパラメータ設定"
   ]
  },
  {
   "cell_type": "code",
   "execution_count": 288,
   "metadata": {},
   "outputs": [],
   "source": [
    "loss_fn = tf.keras.losses.SparseCategoricalCrossentropy()\n",
    "optimizer = tf.keras.optimizers.AdamW(learning_rate=0.001)\n",
    "epochs = 100"
   ]
  },
  {
   "attachments": {},
   "cell_type": "markdown",
   "metadata": {},
   "source": [
    "### 訓練"
   ]
  },
  {
   "cell_type": "code",
   "execution_count": 289,
   "metadata": {},
   "outputs": [
    {
     "name": "stdout",
     "output_type": "stream",
     "text": [
      "Epoch 1/100\n",
      "Tensor(\"model_39/Softmax:0\", shape=(None, 2), dtype=float32)\n",
      "Tensor(\"model_39/Softmax:0\", shape=(None, 2), dtype=float32)\n",
      "1/1 [==============================] - 3s 3s/step - loss: 0.8090\n",
      "Epoch 2/100\n",
      "1/1 [==============================] - 0s 10ms/step - loss: 0.7701\n",
      "Epoch 3/100\n",
      "1/1 [==============================] - 0s 9ms/step - loss: 0.7330\n",
      "Epoch 4/100\n",
      "1/1 [==============================] - 0s 12ms/step - loss: 0.6975\n",
      "Epoch 5/100\n",
      "1/1 [==============================] - 0s 12ms/step - loss: 0.6654\n",
      "Epoch 6/100\n",
      "1/1 [==============================] - 0s 11ms/step - loss: 0.6362\n",
      "Epoch 7/100\n",
      "1/1 [==============================] - 0s 11ms/step - loss: 0.6090\n",
      "Epoch 8/100\n",
      "1/1 [==============================] - 0s 12ms/step - loss: 0.5851\n",
      "Epoch 9/100\n",
      "1/1 [==============================] - 0s 10ms/step - loss: 0.5656\n",
      "Epoch 10/100\n",
      "1/1 [==============================] - 0s 9ms/step - loss: 0.5464\n",
      "Epoch 11/100\n",
      "1/1 [==============================] - 0s 9ms/step - loss: 0.5271\n",
      "Epoch 12/100\n",
      "1/1 [==============================] - 0s 9ms/step - loss: 0.5082\n",
      "Epoch 13/100\n",
      "1/1 [==============================] - 0s 10ms/step - loss: 0.4895\n",
      "Epoch 14/100\n",
      "1/1 [==============================] - 0s 9ms/step - loss: 0.4708\n",
      "Epoch 15/100\n",
      "1/1 [==============================] - 0s 12ms/step - loss: 0.4524\n",
      "Epoch 16/100\n",
      "1/1 [==============================] - 0s 11ms/step - loss: 0.4344\n",
      "Epoch 17/100\n",
      "1/1 [==============================] - 0s 10ms/step - loss: 0.4178\n",
      "Epoch 18/100\n",
      "1/1 [==============================] - 0s 13ms/step - loss: 0.4028\n",
      "Epoch 19/100\n",
      "1/1 [==============================] - 0s 9ms/step - loss: 0.3880\n",
      "Epoch 20/100\n",
      "1/1 [==============================] - 0s 9ms/step - loss: 0.3740\n",
      "Epoch 21/100\n",
      "1/1 [==============================] - 0s 10ms/step - loss: 0.3607\n",
      "Epoch 22/100\n",
      "1/1 [==============================] - 0s 10ms/step - loss: 0.3476\n",
      "Epoch 23/100\n",
      "1/1 [==============================] - 0s 9ms/step - loss: 0.3346\n",
      "Epoch 24/100\n",
      "1/1 [==============================] - 0s 13ms/step - loss: 0.3218\n",
      "Epoch 25/100\n",
      "1/1 [==============================] - 0s 11ms/step - loss: 0.3095\n",
      "Epoch 26/100\n",
      "1/1 [==============================] - 0s 11ms/step - loss: 0.2976\n",
      "Epoch 27/100\n",
      "1/1 [==============================] - 0s 9ms/step - loss: 0.2859\n",
      "Epoch 28/100\n",
      "1/1 [==============================] - 0s 12ms/step - loss: 0.2745\n",
      "Epoch 29/100\n",
      "1/1 [==============================] - 0s 9ms/step - loss: 0.2640\n",
      "Epoch 30/100\n",
      "1/1 [==============================] - 0s 10ms/step - loss: 0.2539\n",
      "Epoch 31/100\n",
      "1/1 [==============================] - 0s 9ms/step - loss: 0.2442\n",
      "Epoch 32/100\n",
      "1/1 [==============================] - 0s 9ms/step - loss: 0.2347\n",
      "Epoch 33/100\n",
      "1/1 [==============================] - 0s 9ms/step - loss: 0.2256\n",
      "Epoch 34/100\n",
      "1/1 [==============================] - 0s 11ms/step - loss: 0.2167\n",
      "Epoch 35/100\n",
      "1/1 [==============================] - 0s 11ms/step - loss: 0.2081\n",
      "Epoch 36/100\n",
      "1/1 [==============================] - 0s 9ms/step - loss: 0.1998\n",
      "Epoch 37/100\n",
      "1/1 [==============================] - 0s 11ms/step - loss: 0.1917\n",
      "Epoch 38/100\n",
      "1/1 [==============================] - 0s 9ms/step - loss: 0.1839\n",
      "Epoch 39/100\n",
      "1/1 [==============================] - 0s 10ms/step - loss: 0.1764\n",
      "Epoch 40/100\n",
      "1/1 [==============================] - 0s 11ms/step - loss: 0.1691\n",
      "Epoch 41/100\n",
      "1/1 [==============================] - 0s 11ms/step - loss: 0.1620\n",
      "Epoch 42/100\n",
      "1/1 [==============================] - 0s 11ms/step - loss: 0.1553\n",
      "Epoch 43/100\n",
      "1/1 [==============================] - 0s 11ms/step - loss: 0.1488\n",
      "Epoch 44/100\n",
      "1/1 [==============================] - 0s 10ms/step - loss: 0.1425\n",
      "Epoch 45/100\n",
      "1/1 [==============================] - 0s 10ms/step - loss: 0.1366\n",
      "Epoch 46/100\n",
      "1/1 [==============================] - 0s 11ms/step - loss: 0.1309\n",
      "Epoch 47/100\n",
      "1/1 [==============================] - 0s 9ms/step - loss: 0.1252\n",
      "Epoch 48/100\n",
      "1/1 [==============================] - 0s 9ms/step - loss: 0.1197\n",
      "Epoch 49/100\n",
      "1/1 [==============================] - 0s 8ms/step - loss: 0.1143\n",
      "Epoch 50/100\n",
      "1/1 [==============================] - 0s 9ms/step - loss: 0.1090\n",
      "Epoch 51/100\n",
      "1/1 [==============================] - 0s 11ms/step - loss: 0.1040\n",
      "Epoch 52/100\n",
      "1/1 [==============================] - 0s 8ms/step - loss: 0.0992\n",
      "Epoch 53/100\n",
      "1/1 [==============================] - 0s 8ms/step - loss: 0.0945\n",
      "Epoch 54/100\n",
      "1/1 [==============================] - 0s 10ms/step - loss: 0.0900\n",
      "Epoch 55/100\n",
      "1/1 [==============================] - 0s 10ms/step - loss: 0.0857\n",
      "Epoch 56/100\n",
      "1/1 [==============================] - 0s 9ms/step - loss: 0.0815\n",
      "Epoch 57/100\n",
      "1/1 [==============================] - 0s 9ms/step - loss: 0.0776\n",
      "Epoch 58/100\n",
      "1/1 [==============================] - 0s 10ms/step - loss: 0.0737\n",
      "Epoch 59/100\n",
      "1/1 [==============================] - 0s 10ms/step - loss: 0.0701\n",
      "Epoch 60/100\n",
      "1/1 [==============================] - 0s 10ms/step - loss: 0.0667\n",
      "Epoch 61/100\n",
      "1/1 [==============================] - 0s 9ms/step - loss: 0.0634\n",
      "Epoch 62/100\n",
      "1/1 [==============================] - 0s 10ms/step - loss: 0.0603\n",
      "Epoch 63/100\n",
      "1/1 [==============================] - 0s 10ms/step - loss: 0.0573\n",
      "Epoch 64/100\n",
      "1/1 [==============================] - 0s 11ms/step - loss: 0.0545\n",
      "Epoch 65/100\n",
      "1/1 [==============================] - 0s 11ms/step - loss: 0.0518\n",
      "Epoch 66/100\n",
      "1/1 [==============================] - 0s 10ms/step - loss: 0.0493\n",
      "Epoch 67/100\n",
      "1/1 [==============================] - 0s 9ms/step - loss: 0.0468\n",
      "Epoch 68/100\n",
      "1/1 [==============================] - 0s 12ms/step - loss: 0.0445\n",
      "Epoch 69/100\n",
      "1/1 [==============================] - 0s 12ms/step - loss: 0.0424\n",
      "Epoch 70/100\n",
      "1/1 [==============================] - 0s 14ms/step - loss: 0.0403\n",
      "Epoch 71/100\n",
      "1/1 [==============================] - 0s 13ms/step - loss: 0.0383\n",
      "Epoch 72/100\n",
      "1/1 [==============================] - 0s 11ms/step - loss: 0.0365\n",
      "Epoch 73/100\n",
      "1/1 [==============================] - 0s 15ms/step - loss: 0.0347\n",
      "Epoch 74/100\n",
      "1/1 [==============================] - 0s 11ms/step - loss: 0.0331\n",
      "Epoch 75/100\n",
      "1/1 [==============================] - 0s 10ms/step - loss: 0.0316\n",
      "Epoch 76/100\n",
      "1/1 [==============================] - 0s 13ms/step - loss: 0.0301\n",
      "Epoch 77/100\n",
      "1/1 [==============================] - 0s 11ms/step - loss: 0.0288\n",
      "Epoch 78/100\n",
      "1/1 [==============================] - 0s 10ms/step - loss: 0.0275\n",
      "Epoch 79/100\n",
      "1/1 [==============================] - 0s 13ms/step - loss: 0.0263\n",
      "Epoch 80/100\n",
      "1/1 [==============================] - 0s 9ms/step - loss: 0.0252\n",
      "Epoch 81/100\n",
      "1/1 [==============================] - 0s 9ms/step - loss: 0.0241\n",
      "Epoch 82/100\n",
      "1/1 [==============================] - 0s 10ms/step - loss: 0.0230\n",
      "Epoch 83/100\n",
      "1/1 [==============================] - 0s 9ms/step - loss: 0.0221\n",
      "Epoch 84/100\n",
      "1/1 [==============================] - 0s 9ms/step - loss: 0.0211\n",
      "Epoch 85/100\n",
      "1/1 [==============================] - 0s 9ms/step - loss: 0.0203\n",
      "Epoch 86/100\n",
      "1/1 [==============================] - 0s 8ms/step - loss: 0.0195\n",
      "Epoch 87/100\n",
      "1/1 [==============================] - 0s 10ms/step - loss: 0.0187\n",
      "Epoch 88/100\n",
      "1/1 [==============================] - 0s 9ms/step - loss: 0.0180\n",
      "Epoch 89/100\n",
      "1/1 [==============================] - 0s 10ms/step - loss: 0.0173\n",
      "Epoch 90/100\n",
      "1/1 [==============================] - 0s 9ms/step - loss: 0.0166\n",
      "Epoch 91/100\n",
      "1/1 [==============================] - 0s 9ms/step - loss: 0.0160\n",
      "Epoch 92/100\n",
      "1/1 [==============================] - 0s 8ms/step - loss: 0.0154\n",
      "Epoch 93/100\n",
      "1/1 [==============================] - 0s 9ms/step - loss: 0.0148\n",
      "Epoch 94/100\n",
      "1/1 [==============================] - 0s 12ms/step - loss: 0.0143\n",
      "Epoch 95/100\n",
      "1/1 [==============================] - 0s 9ms/step - loss: 0.0138\n",
      "Epoch 96/100\n",
      "1/1 [==============================] - 0s 10ms/step - loss: 0.0133\n",
      "Epoch 97/100\n",
      "1/1 [==============================] - 0s 10ms/step - loss: 0.0129\n",
      "Epoch 98/100\n",
      "1/1 [==============================] - 0s 10ms/step - loss: 0.0125\n",
      "Epoch 99/100\n",
      "1/1 [==============================] - 0s 9ms/step - loss: 0.0121\n",
      "Epoch 100/100\n",
      "1/1 [==============================] - 0s 9ms/step - loss: 0.0117\n"
     ]
    }
   ],
   "source": [
    "model.compile(loss=loss_fn, optimizer=optimizer)\n",
    "hist = model.fit(x_train, y_train, epochs=epochs)"
   ]
  },
  {
   "cell_type": "code",
   "execution_count": 290,
   "metadata": {},
   "outputs": [
    {
     "data": {
      "image/png": "[encoded data removed]",
      "text/plain": [
       "<Figure size 640x480 with 1 Axes>"
      ]
     },
     "metadata": {},
     "output_type": "display_data"
    }
   ],
   "source": [
    "plt.plot(hist.history['loss'])\n",
    "plt.show()"
   ]
  },
  {
   "attachments": {},
   "cell_type": "markdown",
   "metadata": {},
   "source": [
    "### 推論"
   ]
  },
  {
   "cell_type": "code",
   "execution_count": 291,
   "metadata": {},
   "outputs": [],
   "source": [
    "x_pred = tf.constant(\n",
    "    [\n",
    "        [\n",
    "            [1., 1., 1., 1., 1.],\n",
    "            [1., 1., 0., 0., 1.],\n",
    "            [1., 0., 0., 0., 1.],\n",
    "            [1., 0., 0., 1., 1.],\n",
    "            [1., 1., 1., 1., 1.],\n",
    "        ],\n",
    "        [\n",
    "            [0., 1., 1., 0., 0.],\n",
    "            [1., 0., 1., 0., 0.],\n",
    "            [0., 0., 1., 0., 0.],\n",
    "            [0., 0., 1., 0., 0.],\n",
    "            [0., 0., 1., 0., 0.],\n",
    "        ],\n",
    "    ]\n",
    ")"
   ]
  },
  {
   "cell_type": "code",
   "execution_count": 292,
   "metadata": {},
   "outputs": [
    {
     "name": "stdout",
     "output_type": "stream",
     "text": [
      "Tensor(\"model_39/Softmax:0\", shape=(None, 2), dtype=float32)\n",
      "1/1 [==============================] - 0s 55ms/step\n"
     ]
    },
    {
     "data": {
      "text/plain": [
       "['0', '1']"
      ]
     },
     "execution_count": 292,
     "metadata": {},
     "output_type": "execute_result"
    }
   ],
   "source": [
    "y_pred = model.predict(x_pred)\n",
    "[classes[x] for x in tf.math.argmax(y_pred, axis=1).numpy()]"
   ]
  }
 ],
 "metadata": {
  "kernelspec": {
   "display_name": "env",
   "language": "python",
   "name": "python3"
  },
  "language_info": {
   "codemirror_mode": {
    "name": "ipython",
    "version": 3
   },
   "file_extension": ".py",
   "mimetype": "text/x-python",
   "name": "python",
   "nbconvert_exporter": "python",
   "pygments_lexer": "ipython3",
   "version": "3.10.6"
  },
  "orig_nbformat": 4
 },
 "nbformat": 4,
 "nbformat_minor": 2
}
